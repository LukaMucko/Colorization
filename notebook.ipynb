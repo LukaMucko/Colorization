{
 "cells": [
  {
   "cell_type": "code",
   "execution_count": null,
   "id": "9b64605f-a657-45ee-b646-efe19d58bc07",
   "metadata": {},
   "outputs": [
    {
     "name": "stdout",
     "output_type": "stream",
     "text": [
      "The autoreload extension is already loaded. To reload it, use:\n",
      "  %reload_ext autoreload\n"
     ]
    }
   ],
   "source": [
    "%load_ext autoreload\n",
    "%autoreload 2\n",
    "from data import *\n",
    "from train import *\n",
    "from models import *\n",
    "device = \"cuda\"\n",
    "\n",
    "ab_path = \"ab/ab/ab1.npy\"\n",
    "l_path = \"l/gray_scale.npy\""
   ]
  },
  {
   "cell_type": "code",
   "execution_count": null,
   "id": "8352d8af",
   "metadata": {},
   "outputs": [],
   "source": [
    "trainLoader = load_npy_data(ab_path, l_path, size=256, n=50, batch_size=32, test=False, num_workers=4, pin_memory=True)"
   ]
  },
  {
   "cell_type": "code",
   "execution_count": null,
   "id": "4f47b049",
   "metadata": {},
   "outputs": [],
   "source": [
    "generator = Generator(1,2)\n",
    "discriminator = Discriminator(1,2)"
   ]
  },
  {
   "cell_type": "code",
   "execution_count": null,
   "id": "66237228",
   "metadata": {},
   "outputs": [],
   "source": [
    "visualize(generator, trainLoader, n=5)"
   ]
  }
 ],
 "metadata": {
  "kernelspec": {
   "display_name": "Python 3 (ipykernel)",
   "language": "python",
   "name": "python3"
  },
  "language_info": {
   "codemirror_mode": {
    "name": "ipython",
    "version": 3
   },
   "file_extension": ".py",
   "mimetype": "text/x-python",
   "name": "python",
   "nbconvert_exporter": "python",
   "pygments_lexer": "ipython3",
   "version": "3.10.10"
  }
 },
 "nbformat": 4,
 "nbformat_minor": 5
}
