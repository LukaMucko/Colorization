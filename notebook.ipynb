{
 "cells": [
  {
   "cell_type": "code",
   "execution_count": 7,
   "id": "9b64605f-a657-45ee-b646-efe19d58bc07",
   "metadata": {},
   "outputs": [
    {
     "name": "stdout",
     "output_type": "stream",
     "text": [
      "The autoreload extension is already loaded. To reload it, use:\n",
      "  %reload_ext autoreload\n"
     ]
    }
   ],
   "source": [
    "%load_ext autoreload\n",
    "%autoreload 2\n",
    "from data import *\n",
    "from train import *\n",
    "from models import *\n",
    "device = \"cuda\"\n",
    "from torchvision.models import resnet18\n",
    "\n",
    "ab_path = \"ab/ab/ab1.npy\"\n",
    "l_path = \"l/gray_scale.npy\""
   ]
  },
  {
   "cell_type": "code",
   "execution_count": 2,
   "id": "8352d8af",
   "metadata": {},
   "outputs": [],
   "source": [
    "trainLoader = load_npy_data(ab_path, l_path, size=256, n=50, batch_size=32, test=False, num_workers=4, pin_memory=True)"
   ]
  },
  {
   "cell_type": "code",
   "execution_count": 3,
   "id": "4f47b049",
   "metadata": {},
   "outputs": [],
   "source": [
    "generator = UNet(1,2).to(device)\n",
    "discriminator = Discriminator(3, patch=False).to(device)\n",
    "optimizer_gen = torch.optim.Adam(generator.parameters(), lr=0.0002, betas=(0.5, 0.999))\n",
    "optimizer_disc = torch.optim.Adam(discriminator.parameters(), lr=0.0002, betas=(0.5, 0.999))"
   ]
  },
  {
   "cell_type": "code",
   "execution_count": 4,
   "id": "66237228",
   "metadata": {},
   "outputs": [],
   "source": [
    "params = {\n",
    "    \"generator\": generator,\n",
    "    \"discriminator\": discriminator,\n",
    "    \"train_loader\": trainLoader,\n",
    "    \"optimizer_gen\": optimizer_gen,\n",
    "    \"optimizer_disc\": optimizer_disc,\n",
    "    \"epochs\": 2,\n",
    "    \"device\": device,\n",
    "    \"save_path\": \"Models\",\n",
    "    \"visualize_every\": 1,\n",
    "    \"plot_images\": True\n",
    "}"
   ]
  },
  {
   "cell_type": "code",
   "execution_count": null,
   "id": "d40e34c3",
   "metadata": {},
   "outputs": [],
   "source": []
  }
 ],
 "metadata": {
  "kernelspec": {
   "display_name": "Python 3 (ipykernel)",
   "language": "python",
   "name": "python3"
  },
  "language_info": {
   "codemirror_mode": {
    "name": "ipython",
    "version": 3
   },
   "file_extension": ".py",
   "mimetype": "text/x-python",
   "name": "python",
   "nbconvert_exporter": "python",
   "pygments_lexer": "ipython3",
   "version": "3.10.10"
  }
 },
 "nbformat": 4,
 "nbformat_minor": 5
}
